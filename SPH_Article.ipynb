{
  "nbformat": 4,
  "nbformat_minor": 0,
  "metadata": {
    "colab": {
      "name": "SPH Article.ipynb",
      "provenance": [],
      "collapsed_sections": [],
      "authorship_tag": "ABX9TyO/3DK9I8VDdfFBdbRUy8vS",
      "include_colab_link": true
    },
    "kernelspec": {
      "name": "python3",
      "display_name": "Python 3"
    },
    "language_info": {
      "name": "python"
    }
  },
  "cells": [
    {
      "cell_type": "markdown",
      "metadata": {
        "id": "view-in-github",
        "colab_type": "text"
      },
      "source": [
        "<a href=\"https://colab.research.google.com/github/Naimish240/SPH-Star-Formation/blob/main/SPH_Article.ipynb\" target=\"_parent\"><img src=\"https://colab.research.google.com/assets/colab-badge.svg\" alt=\"Open In Colab\"/></a>"
      ]
    },
    {
      "cell_type": "markdown",
      "metadata": {
        "id": "i2eSELv367uf"
      },
      "source": [
        "# **Star Formation Simulation in Python**\n",
        "---\n",
        "By : [Naimish Mani B](https://www.github.com/naimish240)\n",
        "\n",
        "President, Stellaria SASTRA.\n",
        "\n",
        "---\n"
      ]
    },
    {
      "cell_type": "markdown",
      "metadata": {
        "id": "XxhjXdil7cqY"
      },
      "source": [
        "## **Table of Contents**\n",
        "\n",
        "1. Introduction\n",
        "2. Fundamentals\n",
        "  - Star Formation\n",
        "  - Smooth Particle Hydrodynamics\n",
        "  - Governing Equations\n",
        "3. Setup\n",
        "  - Initial Conditions and Constants\n",
        "  - Kernel Function\n",
        "  - Density Calculation\n",
        "  - Pressure Calculation\n",
        "  - Acceleration Calculation\n",
        "  - Plot Frame\n",
        "4. Simulation\n",
        "  - Main Loop\n",
        "  - Animation\n",
        "5. Conclusions and Future Work\n",
        "6. Resources"
      ]
    },
    {
      "cell_type": "markdown",
      "metadata": {
        "id": "GYiRE0uI9Nll"
      },
      "source": [
        "## **1. Introduction**\n",
        "\n",
        "So in this article, we'll be looking at how to write a star-formation simulation in Python. Sure, the topic may sound intimidating on first glance, but it's actually pretty simple and straightforward to implement. All you need to know are some basic programming in Python 3 and the fundamentals of vector algebra. An understanding of calculus is a plus, but isn't absolutely essential. We won't be deriving equations, but rather using them directly without proof. This article aims to be as beginner-friendly as possible. If you get stuck somewhere, feel free to reach out to me for clarifications.\n",
        "\n",
        "<br>\n",
        "\n",
        "First things first. What exactly _is_ a simulation? A computer simulation is basically just a fancy way of saying that we're using computers to imititate a real-world process. Here, the real world process we're interested in is that of star formation. In order to imitate the real-world process, we either take a rule-based approach or solve our governing equations. Given that star formation is an actively-studied topic in astrophysics with plenty of equations describing the same, we will be taking the latter approach.\n",
        "\n",
        "<br>\n",
        "\n",
        "Unlike us, computers can't really sit and work out the solutions to an equation on their own. So, we use different \"schemes\" to solve our governing equations. Here, we'll be using a technique known as \"Smooth Particle Hydrodynamics\" in order to solve our equations and run the simulation. The equations are in their vector form.\n",
        "\n",
        "<br>\n",
        "\n",
        "Given that we're using Python to solve our equations, we use NumPy to speed up the vector calculations and MatPlotLib to view the simulation results. I will be linking tutorials for the same at the end of the article, and would strongly suggest you check them out to get a better understanding for how these libraries work."
      ]
    },
    {
      "cell_type": "markdown",
      "metadata": {
        "id": "AmIuebW69Uqp"
      },
      "source": [
        "## **2. Fundamentals**\n",
        "\n",
        "Before we jump the metaphorical gun and dive head-first into the code, we first need to understand some of the basic concepts that are being used here. Firstly, we'll look at the physics of how stars form, followed up by the simulation technique we'll be using to visualise the same."
      ]
    },
    {
      "cell_type": "markdown",
      "metadata": {
        "id": "5XhSBiiP9XFs"
      },
      "source": [
        "### **2.1 Star Formation**\n",
        "\n",
        "Through our observations of the night sky, we know that there's a lot of gas in outer space, just floating around. We also know that stars burn this gas to produce light, through nuclear fusion. What we're trying to figure out, is how a gas cloud goes from just floating around in space, to collapsing on itself and starting nuclear fusion.\n",
        "\n",
        "Broadly speaking, there are 5 major steps in the formation of a star as identified by astronomers. They are as follows:\n",
        "\n",
        "1. There's a cloud of molecular gas which doesn't collapse on itself by virtue of the motion of its particles. The gas just has pressure, no gravity.\n",
        "\n",
        "2. Something (we don't know what, yet) triggers the gas to form lumps, which in turn leads to gravity dominating over the pre existing pressure.\n",
        "\n",
        "3. These clumps of gas merge together and gain mass, slowly forming protostars, with a positive feedback loop where the more clumps joins together, the heavier it gets, attracting more clumps.\n",
        "\n",
        "4. As the clumps start aggregating, the gas glob starts rotating, eventually flattening out (due to it's moment of inertia) and formimg the circumstellar disk. This disk contains two parts, the accretion disk and the protoplanetary disk.\n",
        "\n",
        "5. The accretion disk gets pressurized till the gas starts a fusion reaction. This initial fusion reaction sends out a strong wind through the protoplanetary disc, helping the remaining matter aggregate to form planets and asteroids, while the fusion reaction starts heating up the gas and forming a stable star.\n",
        "\n",
        "\n",
        "Our simulation will look at a dark cloud, and study how the gravitational collapse might occur. Subsequent steps will require an in-depth understanding of thermodynamics and magnetohydrodynamics, among other things, and are hence beyond the scope of this article. Resouces to learn more about this can be found in the resources section.\n",
        "\n",
        "\n",
        "\n",
        "<img src=\"https://www.researchgate.net/profile/Markus-Wittkowski/publication/314283237/figure/fig8/AS:654789746647058@1533125449614/The-different-phases-of-star-formation.png\">"
      ]
    },
    {
      "cell_type": "markdown",
      "metadata": {
        "id": "BYXXdK5h9auq"
      },
      "source": [
        "### **2.2 Smooth Particle Hydrodynamics**\n",
        "\n",
        "As the name suggests, Smooth Particle Hydrodynamics (SPH) takes a particle-based approach to modelling the properties of a fluid. In our case, we model the clumps of gas as homogenous through interpolation and analytical differentiation. This makes it very simple to apply our standard energy and momentum conservation equations on each \"particle\". This is in contrast to traditional fluid dynamics solvers, which make use of meshing and the finite volume approach.\n",
        "\n",
        "In effect, we study the flow of a fluid by treating it as a collection of particles. We will be looking at how SPH can be implemented in the upcoming sections. For now, this bird's eye view of SPH is enough to get a feel for what we will be doing.\n",
        "\n",
        "<img src=\"https://www.researchgate.net/publication/324097218/figure/fig3/AS:609695752523782@1522374203410/Schematic-for-the-symmetric-particle-based-method-Smoothed-Particle-Hydrodynamics-SPH.png\">\n",
        "\n"
      ]
    },
    {
      "cell_type": "markdown",
      "metadata": {
        "id": "2BrWiCFetvSV"
      },
      "source": [
        "### **2.3 Governing Equations**\n",
        "\n",
        "For the SPH simulation, we represent the fluid as a collection of particles. Each particle has an initial position, velocity and mass, with both position and velocity being vectors.\n",
        "\n",
        "\n",
        "Let velocity be $v$ and position be $r$. Then,\n",
        "\n",
        "According to Euler's equation of continuity, for an ideal fluid,\n",
        "\n",
        "$\\frac{1}{\\rho}\\frac{dv}{dt} = -\\nabla P + f$\n",
        "---\n",
        "Where,\n",
        "\n",
        "$P$ : Pressure of the fluid\n",
        "\n",
        "$\\rho$ : Density of the fluid\n",
        "\n",
        "$f$ : External forces acting on the system.\n",
        "\n",
        "We assume $P$ to be depicted through a polytropic process, which has the equation\n",
        "\n",
        "$P = k \\rho^{1+\\frac{1}{n}}$\n",
        "---\n",
        "Where,\n",
        "\n",
        "$k$ : Normalization constant\n",
        "\n",
        "$n$ : Polytropic index\n",
        "\n",
        "\n",
        "Similarly, we assume the external force $f$ to be given by the equation\n",
        "\n",
        "$f = -\\lambda r - \\nu v$\n",
        "---\n",
        "Where $\\lambda r$ denotes the force due to gravity and $\\nu v$ the force due to viscousity acting on the fluid.\n",
        "\n",
        "These equations have been adopted from [this](https://academic.oup.com/mnras/article/350/4/1449/986477) paper\n"
      ]
    },
    {
      "cell_type": "markdown",
      "metadata": {
        "id": "wLZU29Zd9gJ-"
      },
      "source": [
        "## **3. Setup**\n",
        "\n",
        "Now that we've understood the basics of star formation and SPH, we can start making the solver. First, lets import the libraries we'll be using."
      ]
    },
    {
      "cell_type": "code",
      "metadata": {
        "id": "B_wv2-shr4or"
      },
      "source": [
        "import numpy as np\n",
        "import matplotlib.pyplot as plt"
      ],
      "execution_count": 1,
      "outputs": []
    },
    {
      "cell_type": "markdown",
      "metadata": {
        "id": "ao8UgdJ49iSy"
      },
      "source": [
        "### **3.1 Initial Conditions and Constants**\n",
        "\n",
        "Every simulation requires a set of initial conditions to kick things off. I.e., the state of the system at $t_0$. We are defining our initial conditions here. Some of these constants might not make sense just yet, but they will make sense as we move along.\n",
        "\n",
        "Initially, we start the system with particles (lumps of gas) spread out randomly. "
      ]
    },
    {
      "cell_type": "code",
      "metadata": {
        "id": "13vmjzivrsmG"
      },
      "source": [
        "# Constants\n",
        "\n",
        "N     = 500                   # Number of particles\n",
        "t     = 0                     # start time of simulation\n",
        "tEnd  = 8                     # end time for simulation\n",
        "dt    = 0.01                  # timestep\n",
        "M     = 2                     # star mass\n",
        "R     = 0.75                  # star radius\n",
        "h     = 0.1                   # smoothing length\n",
        "k     = 0.1                   # equation of state constant\n",
        "n     = 1                     # polytropic index\n",
        "nu    = 1                     # damping\n",
        "m     = M/N                   # single particle mass\n",
        "lmbda = 2.01                  # lambda for gravity\n",
        "Nt    = int(np.ceil(tEnd/dt)) # number of timesteps"
      ],
      "execution_count": 41,
      "outputs": []
    },
    {
      "cell_type": "code",
      "metadata": {
        "id": "ktFMFbWosT00"
      },
      "source": [
        "# Initial Conditions\n",
        "def initial():\n",
        "  np.random.seed(42)             # set random number generator seed\n",
        "  pos   = np.random.randn(N,2)   # randomly selected positions and velocities\n",
        "  vel   = np.zeros(pos.shape)\n",
        "  return pos, vel"
      ],
      "execution_count": 3,
      "outputs": []
    },
    {
      "cell_type": "markdown",
      "metadata": {
        "id": "1FFhkM-Z9mAL"
      },
      "source": [
        "### **3.2 Kernel Function**\n",
        "\n",
        "As we know, SPH makes use of a smoothing function to distribute the mass inside each particle in space. This kernel function is derived from the Dirac $\\delta$ function. It is essential that the kernel approximates this function at its limits to ensure the rest of the maths checks out. There are many standard smoothing kernels, like the Gaussian kernel, Cubic spline kernel, Quintic spline kernel, etc. Check [this](https://pysph.readthedocs.io/en/latest/reference/kernels.html) for more info on kernels.\n",
        "\n",
        "Here, we make use of the Gaussian Kernel, which is defined as follows:\n",
        "\n",
        "$W(r, h) = \\frac{1}{h^3 \\pi^{1.5}} \\exp({\\frac{- {\\lVert{r}\\rVert}^2}{h^2}})$\n",
        "---\n",
        "\n",
        "Similarly, we will also be requiring the gradient of the gaussian kernel, which is defined as follows:\n",
        "\n",
        "$\\nabla W(r, h) = \\frac{-2}{h^5 \\pi^{1.5}}\\exp({\\frac{- {\\lVert{r}\\rVert}^2}{h^2}})r$\n",
        "---\n",
        "\n",
        "The derivation of the gradient is left to the reader as an exercise.\n",
        "\n",
        "Both of these functions $W$ and $\\nabla W$ will be used extensively in the following calculations, because discretiziation helps us shift the gradient onto the kernel. Check [this](https://interactivecomputergraphics.github.io/SPH-Tutorial/slides/01_intro_foundations_neighborhood.pdf) link for more info."
      ]
    },
    {
      "cell_type": "code",
      "metadata": {
        "id": "BMpa6di61qNP"
      },
      "source": [
        "# Gaussian Smoothing Kernel\n",
        "def kernel(x, y, h):\n",
        "  \"\"\"\n",
        "  Input:\n",
        "    x : matrix of x positions\n",
        "    y : matrix of y positions\n",
        "    h : smoothing length\n",
        "\n",
        "  Output:\n",
        "    w : evaluated smoothing function\n",
        "  \"\"\"\n",
        "  # Calculate |r|\n",
        "  r = np.sqrt(x**2 + y**2)\n",
        "  # Calculate the value of the smoothing function\n",
        "  w = (1.0 / (h*np.sqrt(np.pi)))**3 * np.exp( -r**2 / h**2)\n",
        "  # Return\n",
        "  return w"
      ],
      "execution_count": 4,
      "outputs": []
    },
    {
      "cell_type": "code",
      "metadata": {
        "id": "evZ12x8n1qGu"
      },
      "source": [
        "# Smoothing Kernel Gradient\n",
        "def gradKernel(x, y, h):\n",
        "  \"\"\"\n",
        "  Inputs:\n",
        "    x : matrix of x positions\n",
        "    y : matrix of y positions\n",
        "    h : smoothing length\n",
        "\n",
        "  Outputs:\n",
        "    wx, wy : the evaluated gradient\n",
        "  \"\"\"\n",
        "  # Calculate |r|\n",
        "  r = np.sqrt(x**2 + y**2)\n",
        "  # Calculate the scalar part of the gradient\n",
        "  n = -2 * np.exp( -r**2 / h**2) / h**5 / (np.pi)**(3/2)\n",
        "  # Get the vector parts of the gradient\n",
        "  wx = n * x\n",
        "  wy = n * y\n",
        "  # Return the gradient vector\n",
        "  return wx, wy"
      ],
      "execution_count": 5,
      "outputs": []
    },
    {
      "cell_type": "markdown",
      "metadata": {
        "id": "BRq3SA689qx0"
      },
      "source": [
        "### **3.3 Density Calculation**\n",
        "\n",
        "In SPH, the density at a particular point can be found through the formula\n",
        "\n",
        "$\\rho_i = \\sum_{j} mW(r_i - r_j, h)$\n",
        "---\n",
        "\n",
        "From this formula, we can see that we need to find the distance between all particles to get the density at a particular position. Hence, we can get the density at every position as shown below."
      ]
    },
    {
      "cell_type": "code",
      "metadata": {
        "id": "cRRl78OK5b4j"
      },
      "source": [
        "# Solve for the (r_i - r_j) term in the density formula\n",
        "def magnitude(ri, rj):\n",
        "  \"\"\"\n",
        "  Inputs:\n",
        "    ri : M x 2 matrix of positions\n",
        "    rj : N x 2 matrix of positions\n",
        "  \n",
        "  Output:\n",
        "    dx, dy : M x N matrix of separations\n",
        "  \"\"\"\n",
        "  \n",
        "  M = ri.shape[0]\n",
        "  N = rj.shape[0]\n",
        "  \n",
        "  # get x, y of r_i\n",
        "  r_i_x = ri[:,0].reshape((M,1))\n",
        "  r_i_y = ri[:,1].reshape((M,1))\n",
        "  \n",
        "  # get x, y of r_j\n",
        "  r_j_x = rj[:,0].reshape((N,1))\n",
        "  r_j_y = rj[:,1].reshape((N,1))\n",
        "  \n",
        "  # get r_i - r_j\n",
        "  dx = r_i_x - r_j_x.T\n",
        "  dy = r_i_y - r_j_y.T\n",
        "  \n",
        "  return dx, dy"
      ],
      "execution_count": 6,
      "outputs": []
    },
    {
      "cell_type": "code",
      "metadata": {
        "id": "76Hae9LG63o1"
      },
      "source": [
        "# Get density at sample points\n",
        "def density(r, pos, m, h):\n",
        "  \"\"\"\n",
        "  Inputs:\n",
        "    r   : M x 3 matrix of sampling locations\n",
        "    pos : N x 3 matrix of particle positions\n",
        "    m   : particle mass\n",
        "    h   : smoothing length\n",
        "\n",
        "  Output:\n",
        "    rho : M x 1 vector of densities\n",
        "  \"\"\"\n",
        "  \n",
        "  M = r.shape[0]\n",
        "  dx, dy = magnitude(r, pos);\n",
        "  rho = np.sum(m * kernel(dx, dy, h), 1).reshape((M,1))\n",
        "  \n",
        "  return rho"
      ],
      "execution_count": 7,
      "outputs": []
    },
    {
      "cell_type": "markdown",
      "metadata": {
        "id": "Z-YoCs7D9ubT"
      },
      "source": [
        "### **3.4 Pressure Calculation**\n",
        "\n",
        "Since we already have the $\\rho$ values from the previous step, we can directly calculate the pressure at each point using the formula\n",
        "\n",
        "$P = k \\rho^{1+\\frac{1}{n}}$\n",
        "---\n",
        "as we had defined in 2.3."
      ]
    },
    {
      "cell_type": "code",
      "metadata": {
        "id": "v9-4Ryg16D0U"
      },
      "source": [
        "# Find pressure\n",
        "def pressure(rho, k, n):\n",
        "  \"\"\"\n",
        "  Inputs:\n",
        "    rho : vector of densities\n",
        "    k   : equation of state constant\n",
        "    n   : polytropic index\n",
        "\n",
        "  Output:\n",
        "    P : pressure\n",
        "  \"\"\"\n",
        "\n",
        "  P = k * rho**(1+1/n)\n",
        "  \n",
        "  return P"
      ],
      "execution_count": 8,
      "outputs": []
    },
    {
      "cell_type": "markdown",
      "metadata": {
        "id": "2I_9yVVj-Pih"
      },
      "source": [
        "### **3.5 Acceleration Calculation**\n",
        "\n",
        "In order to track the motion of the particles, we need to know their positions at all time steps. But in order to know the position, we need to know the velocity. And to know the velocity, we require the acceleration of each particle. We can calculate the acceleration acting on each particle at every time step using the following discretization formula:\n",
        "\n",
        "$\\frac{dv_i}{dt} = - \\sum_{i, j \\ne 0} m(\\frac{P_i}{\\rho_i^2}+\\frac{P_j}{\\rho_j^2}) \\nabla W(r_i - r_j, h) + f_i$\n",
        "---\n",
        "\n",
        "where 'i' denotes the ith particle and\n",
        "$f_i = -\\lambda r_i - \\nu v_i$\n",
        "---\n",
        "\n",
        "from section 2.3.\n",
        "\n",
        "Although this formula might look complicated, we can clearly see that it's just a sum of the components which we had written functions for earlier. Hence, by daisy-chaining the functions, we can evaluate this expression easily."
      ]
    },
    {
      "cell_type": "code",
      "metadata": {
        "id": "DqsKFp7k-5xA"
      },
      "source": [
        "# Calculate acceleration on particles\n",
        "def acceleration(pos, vel, m, h, k, n, lmbda, nu):\n",
        "  \"\"\"\n",
        "  Inputs:\n",
        "    pos   : N x 2 matrix of positions\n",
        "    vel   : N x 2 matrix of velocities\n",
        "    m     : particle mass\n",
        "    h     : smoothing length\n",
        "    k     : equation of state constant\n",
        "    n     : polytropic index\n",
        "    lmbda : external force constant\n",
        "    nu    : viscosity\n",
        "\n",
        "  Output:\n",
        "    a : N x 2 matrix of accelerations\n",
        "  \"\"\"\n",
        "  \n",
        "  N = pos.shape[0]\n",
        "  \n",
        "  # Calculate densities\n",
        "  rho = density(pos, pos, m, h)\n",
        "  \n",
        "  # Get pressures\n",
        "  P = pressure(rho, k, n)\n",
        "  \n",
        "  # Get pairwise distances and gradients\n",
        "  dx, dy = magnitude(pos, pos)\n",
        "  dWx, dWy = gradKernel(dx, dy, h)\n",
        "  \n",
        "  # Add Pressure contribution to accelerations\n",
        "  ax = - np.sum(m * (P/rho**2 + P.T/rho.T**2) * dWx, 1).reshape((N,1))\n",
        "  ay = - np.sum(m * (P/rho**2 + P.T/rho.T**2) * dWy, 1).reshape((N,1))\n",
        "  \n",
        "  # Pack acceleration components\n",
        "  a = np.hstack((ax,ay))\n",
        "  \n",
        "  # Add external forces\n",
        "  a += -lmbda * pos - nu * vel\n",
        "  \n",
        "  # Return total acceleration\n",
        "  return a"
      ],
      "execution_count": 9,
      "outputs": []
    },
    {
      "cell_type": "markdown",
      "metadata": {
        "id": "UI2Ves9i-YMt"
      },
      "source": [
        "## **4. Simulation**\n",
        "\n",
        "Now that the setup is complete, we can move ahead and run the simulation. The simulation requires two main parts. Firstly, we need to set the main loop to run the simulation forward in time. Next, we need to stitch the frames together to form an animation."
      ]
    },
    {
      "cell_type": "markdown",
      "metadata": {
        "id": "kYhm9QA0-bLH"
      },
      "source": [
        "### **4.1 Main Loop**\n",
        "\n",
        "Here, we set up the loop that controls the simulation in the time domain. By tracking the particles in space through time, we can finally tie the simulation together in this loop. Here, we update the velocity and position using Newton's laws of motion.\n",
        "\n",
        "$v_i = v_{i-1} + a_i t$\n",
        "---\n",
        "$r_i = r_{i-1} + v_i t$\n",
        "---"
      ]
    },
    {
      "cell_type": "code",
      "metadata": {
        "id": "0lwevhAvVZn2"
      },
      "source": [
        "import os\n",
        "import glob\n",
        "import tqdm\n",
        "\n",
        "# Creates folder if it doesn't exist\n",
        "if not os.path.exists('output'):\n",
        "  os.mkdir('output')\n",
        "# Else, deletes all images inside it\n",
        "else:\n",
        "  files = glob.glob('output/*.png')\n",
        "  for f in files:\n",
        "      os.remove(f)"
      ],
      "execution_count": 42,
      "outputs": []
    },
    {
      "cell_type": "code",
      "metadata": {
        "colab": {
          "base_uri": "https://localhost:8080/"
        },
        "id": "R3glIIVBDQMV",
        "outputId": "a8496345-82e0-4e46-bfeb-ccc3202f2be6"
      },
      "source": [
        "# Disable inline printing to prevent all graphs from being shown\n",
        "%matplotlib\n",
        "pos, vel = initial()\n",
        "\n",
        "# Start loop\n",
        "for i in tqdm.tqdm(range(Nt)):\n",
        "  # Update values\n",
        "  acc = acceleration(pos, vel, m, h, k, n, lmbda, nu)\n",
        "  vel += acc * dt\n",
        "  pos += vel * dt\n",
        "  rho = density(pos, pos, m, h)\n",
        "\n",
        "  # Plot\n",
        "  fig, ax = plt.subplots(figsize=(6, 6))\n",
        "\n",
        "  plt.sca(ax)\n",
        "  plt.cla()\n",
        "\n",
        "  # Get color from density\n",
        "  cval = np.minimum((rho-3)/3,1).flatten()\n",
        "\n",
        "  # Place particles on map with color\n",
        "  plt.scatter(pos[:,0],pos[:,1], c=cval, cmap=plt.cm.autumn, s=5, alpha=0.75)\n",
        "\n",
        "  # Set plot limits and stuff\n",
        "  ax.set(xlim=(-2.5, 2.5), ylim=(-2.5, 2.5))\n",
        "  ax.set_aspect('equal', 'box')\n",
        "  ax.set_facecolor('black')\n",
        "  ax.set_facecolor((.1,.1,.1))\n",
        "\n",
        "  # save plot\n",
        "  plt.savefig(f'output/{i}.png')\n",
        "  plt.close()"
      ],
      "execution_count": 43,
      "outputs": [
        {
          "output_type": "stream",
          "name": "stdout",
          "text": [
            "Using matplotlib backend: agg\n"
          ]
        },
        {
          "output_type": "stream",
          "name": "stderr",
          "text": [
            "100%|██████████| 800/800 [02:22<00:00,  5.60it/s]\n"
          ]
        }
      ]
    },
    {
      "cell_type": "markdown",
      "metadata": {
        "id": "fTdwvy1S-c24"
      },
      "source": [
        "### **4.2 Animation**\n",
        "\n",
        "Now that all the frames are ready, we can stitch them together into a video using OpenCV, and download the simulation."
      ]
    },
    {
      "cell_type": "code",
      "metadata": {
        "colab": {
          "base_uri": "https://localhost:8080/"
        },
        "id": "AMlOW_QsS-wx",
        "outputId": "059c62b7-e63d-445c-ad0b-be8b627da12d"
      },
      "source": [
        "import cv2\n",
        "\n",
        "img_array = []\n",
        "\n",
        "print(\"Reading Frames\")\n",
        "# List image paths\n",
        "imgs_list = glob.glob('output/*.png')\n",
        "lsorted = sorted(imgs_list, key=lambda x: int(os.path.splitext(x[7:])[0]))\n",
        "\n",
        "for filename in tqdm.tqdm(lsorted):\n",
        "    img = cv2.imread(filename)\n",
        "    height, width, layers = img.shape\n",
        "    size = (width,height)\n",
        "    img_array.append(img)\n",
        "\n",
        "out = cv2.VideoWriter('simulation.mp4',cv2.VideoWriter_fourcc(*'MP4V'), 30, size)\n",
        "\n",
        "# Write to video\n",
        "print(\"Writing frames\")\n",
        "for i in tqdm.tqdm(range(len(img_array))):\n",
        "    out.write(img_array[i])\n",
        "out.release()"
      ],
      "execution_count": 44,
      "outputs": [
        {
          "output_type": "stream",
          "name": "stdout",
          "text": [
            "Reading Frames\n"
          ]
        },
        {
          "output_type": "stream",
          "name": "stderr",
          "text": [
            "100%|██████████| 800/800 [00:02<00:00, 336.58it/s]\n"
          ]
        },
        {
          "output_type": "stream",
          "name": "stdout",
          "text": [
            "Writing frames\n"
          ]
        },
        {
          "output_type": "stream",
          "name": "stderr",
          "text": [
            "100%|██████████| 800/800 [00:00<00:00, 860.53it/s]\n"
          ]
        }
      ]
    },
    {
      "cell_type": "code",
      "metadata": {
        "colab": {
          "base_uri": "https://localhost:8080/",
          "height": 17
        },
        "id": "geWPbmQ_jfeV",
        "outputId": "2bd5c82c-f67b-430a-8a26-e21c3d53e9f3"
      },
      "source": [
        "# Download the simulation\n",
        "from google.colab import files\n",
        "files.download('simulation.mp4')"
      ],
      "execution_count": 45,
      "outputs": [
        {
          "output_type": "display_data",
          "data": {
            "application/javascript": [
              "\n",
              "    async function download(id, filename, size) {\n",
              "      if (!google.colab.kernel.accessAllowed) {\n",
              "        return;\n",
              "      }\n",
              "      const div = document.createElement('div');\n",
              "      const label = document.createElement('label');\n",
              "      label.textContent = `Downloading \"${filename}\": `;\n",
              "      div.appendChild(label);\n",
              "      const progress = document.createElement('progress');\n",
              "      progress.max = size;\n",
              "      div.appendChild(progress);\n",
              "      document.body.appendChild(div);\n",
              "\n",
              "      const buffers = [];\n",
              "      let downloaded = 0;\n",
              "\n",
              "      const channel = await google.colab.kernel.comms.open(id);\n",
              "      // Send a message to notify the kernel that we're ready.\n",
              "      channel.send({})\n",
              "\n",
              "      for await (const message of channel.messages) {\n",
              "        // Send a message to notify the kernel that we're ready.\n",
              "        channel.send({})\n",
              "        if (message.buffers) {\n",
              "          for (const buffer of message.buffers) {\n",
              "            buffers.push(buffer);\n",
              "            downloaded += buffer.byteLength;\n",
              "            progress.value = downloaded;\n",
              "          }\n",
              "        }\n",
              "      }\n",
              "      const blob = new Blob(buffers, {type: 'application/binary'});\n",
              "      const a = document.createElement('a');\n",
              "      a.href = window.URL.createObjectURL(blob);\n",
              "      a.download = filename;\n",
              "      div.appendChild(a);\n",
              "      a.click();\n",
              "      div.remove();\n",
              "    }\n",
              "  "
            ],
            "text/plain": [
              "<IPython.core.display.Javascript object>"
            ]
          },
          "metadata": {}
        },
        {
          "output_type": "display_data",
          "data": {
            "application/javascript": [
              "download(\"download_86f4379e-b612-4881-b27c-cb0c7f37c15d\", \"simulation.mp4\", 3457481)"
            ],
            "text/plain": [
              "<IPython.core.display.Javascript object>"
            ]
          },
          "metadata": {}
        }
      ]
    },
    {
      "cell_type": "markdown",
      "metadata": {
        "id": "k7oBJXXE-gKU"
      },
      "source": [
        "## **5. Conclusion and Future Work**\n",
        "\n",
        "Through this exercise, we learnt about how star formation works, and how we can use SPH to simulate the same, albeit in a very crude, 2D case. In the real world, scientists take their simulation results and compare it with observational data, and tweak their SPH model assumptions accordingly. Now all that's left is to go find observational data and tweak our models!\n",
        "\n",
        "Also, don't forget to clear the output folder before you re-run simulations!"
      ]
    },
    {
      "cell_type": "markdown",
      "metadata": {
        "id": "ty_OfupP-3fk"
      },
      "source": [
        "## **6. Resources**\n",
        "\n",
        "Introduction to Simulations Video : https://www.youtube.com/watch?v=eED4bSkYCB8\n",
        "\n",
        "NumPy Tutorial : https://www.youtube.com/watch?v=QUT1VHiLmmI\n",
        "\n",
        "MatplotLib Playlist : https://www.youtube.com/watch?v=UO98lJQ3QGI&list=PL-osiE80TeTvipOqomVEeZ1HRrcEvtZB_\n",
        "\n",
        "SPH Workshop Slides : https://interactivecomputergraphics.github.io/SPH-Tutorial/slides/01_intro_foundations_neighborhood.pdf\n",
        "\n",
        "SPH Kernels : https://pysph.readthedocs.io/en/latest/reference/kernels.html\n",
        "\n",
        "SPH Review Paper : https://doi.org/10.1007/s11831-010-9040-7\n",
        "\n",
        "SPH Workshop Notes : https://interactivecomputergraphics.github.io/SPH-Tutorial/\n",
        "\n",
        "Toy Stars in 1D paper : https://academic.oup.com/mnras/article/350/4/1449/986477\n",
        "\n",
        "MATLAB Toy star implementation : https://pmocz.github.io/manuscripts/pmocz_sph.pdf\n",
        "\n",
        "PySPH conference : https://www.youtube.com/watch?v=l-f16KjR9Bw\n",
        "\n",
        "SPH Mathematics and proofs : https://www.youtube.com/watch?v=tAXHCAEgSuE\n",
        "\n",
        "Another SPH review paper : https://doi.org/10.1146/annurev.aa.30.090192.002551\n",
        "\n",
        "2D toy stars : https://academic.oup.com/mnras/article/365/3/991/969452\n",
        "\n",
        "Star Formation article : http://web.gps.caltech.edu/~gab/astrophysics/astrophysics.html\n",
        "\n",
        "Star Formation video : https://www.youtube.com/watch?v=lI57XIZ17hE&t=1s"
      ]
    }
  ]
}